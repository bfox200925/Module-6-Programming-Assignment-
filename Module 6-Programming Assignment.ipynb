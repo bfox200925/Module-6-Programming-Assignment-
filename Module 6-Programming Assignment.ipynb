{
 "cells": [
  {
   "cell_type": "markdown",
   "id": "30a6d7b4-4aa2-4fdb-857d-46d0de44fca1",
   "metadata": {},
   "source": [
    "#13.1"
   ]
  },
  {
   "cell_type": "code",
   "execution_count": 6,
   "id": "d8317e46-9672-4973-95ba-45ac3e56d546",
   "metadata": {},
   "outputs": [
    {
     "name": "stdout",
     "output_type": "stream",
     "text": [
      "Current date written to today.txt\n"
     ]
    }
   ],
   "source": [
    "from datetime import datetime\n",
    "\n",
    "# Get the current date\n",
    "current_date = datetime.now().strftime(\"%Y-%m-%d\")\n",
    "\n",
    "# Write the current date to today.txt\n",
    "with open(\"today.txt\", \"w\") as file:\n",
    "    file.write(current_date)\n",
    "\n",
    "print(\"Current date written to today.txt\")\n"
   ]
  },
  {
   "cell_type": "markdown",
   "id": "cd9d76c7-aab1-47d4-9f76-27dca8995353",
   "metadata": {},
   "source": [
    "#13.2"
   ]
  },
  {
   "cell_type": "code",
   "execution_count": 8,
   "id": "c9899825-80c7-44aa-8e8b-e95fc16fc564",
   "metadata": {},
   "outputs": [
    {
     "name": "stdout",
     "output_type": "stream",
     "text": [
      "Contents of today.txt: 2024-09-25\n"
     ]
    }
   ],
   "source": [
    "# Read the contents of today.txt into today_string\n",
    "with open(\"today.txt\", \"r\") as file:\n",
    "    today_string = file.read()\n",
    "\n",
    "print(\"Contents of today.txt:\", today_string)\n"
   ]
  },
  {
   "cell_type": "markdown",
   "id": "1ca6d76e-a190-45f3-9dbf-cbdaee923d11",
   "metadata": {},
   "source": [
    "#13.3"
   ]
  },
  {
   "cell_type": "code",
   "execution_count": 10,
   "id": "14ad4327-66ec-4a9d-ab37-a60e9f1fca49",
   "metadata": {},
   "outputs": [
    {
     "name": "stdout",
     "output_type": "stream",
     "text": [
      "Parsed date: 2024-09-25 00:00:00\n"
     ]
    }
   ],
   "source": [
    "from datetime import datetime\n",
    "\n",
    "# Assuming today_string contains the date in \"YYYY-MM-DD\" format\n",
    "today_string = \"2024-09-25\"  # Replace this with the actual content of today_string\n",
    "\n",
    "# Parse the date from today_string\n",
    "parsed_date = datetime.strptime(today_string, \"%Y-%m-%d\")\n",
    "\n",
    "print(\"Parsed date:\", parsed_date)\n"
   ]
  },
  {
   "cell_type": "markdown",
   "id": "f6ced1d0-bf1e-4363-b87d-237580616e51",
   "metadata": {},
   "source": [
    "#15.1"
   ]
  },
  {
   "cell_type": "code",
   "execution_count": null,
   "id": "1f08614a-7b8f-459d-96d0-7766ca0f971e",
   "metadata": {},
   "outputs": [],
   "source": []
  }
 ],
 "metadata": {
  "kernelspec": {
   "display_name": "anaconda-2024.02-py310",
   "language": "python",
   "name": "conda-env-anaconda-2024.02-py310-py"
  },
  "language_info": {
   "codemirror_mode": {
    "name": "ipython",
    "version": 3
   },
   "file_extension": ".py",
   "mimetype": "text/x-python",
   "name": "python",
   "nbconvert_exporter": "python",
   "pygments_lexer": "ipython3",
   "version": "3.10.14"
  }
 },
 "nbformat": 4,
 "nbformat_minor": 5
}
